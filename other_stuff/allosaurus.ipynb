{
  "cells": [
    {
      "cell_type": "code",
      "execution_count": 1,
      "metadata": {
        "id": "4I7a1iHNk3l2"
      },
      "outputs": [],
      "source": [
        "import os\n",
        "import glob\n",
        "from pathlib import Path\n",
        "\n",
        "from tqdm import tqdm"
      ]
    },
    {
      "cell_type": "code",
      "execution_count": 2,
      "metadata": {
        "colab": {
          "base_uri": "https://localhost:8080/"
        },
        "id": "dH41z7J6mPb5",
        "outputId": "ea8c8c58-b0da-46c8-b1c9-74410911478b"
      },
      "outputs": [],
      "source": [
        "!pip install -qU allosaurus"
      ]
    },
    {
      "cell_type": "markdown",
      "metadata": {
        "id": "8c58107e"
      },
      "source": [
        "## Lectura de datos"
      ]
    },
    {
      "cell_type": "code",
      "execution_count": 3,
      "metadata": {
        "id": "b99rBcH8PFBs"
      },
      "outputs": [],
      "source": [
        "DATA_DIR = \"output/words_wav/es/sr16000\"\n",
        "# DATA_DIR = \"output/words_wav/es\" # 48000 sr\n",
        "# DATA_DIR = \"output/words_wav/es\" #/sr16000\""
      ]
    },
    {
      "cell_type": "code",
      "execution_count": 4,
      "metadata": {
        "id": "d43ff5ec"
      },
      "outputs": [
        {
          "name": "stdout",
          "output_type": "stream",
          "text": [
            "Found 56365 audio files.\n"
          ]
        }
      ],
      "source": [
        "data = []\n",
        "\n",
        "audio_paths = glob.glob(os.path.join(DATA_DIR, \"*.wav\"))\n",
        "print(f\"Found {len(audio_paths)} audio files.\")"
      ]
    },
    {
      "cell_type": "markdown",
      "metadata": {
        "id": "KMiLQ-9WmLDy"
      },
      "source": [
        "## RUN"
      ]
    },
    {
      "cell_type": "code",
      "execution_count": 5,
      "metadata": {
        "id": "AAeHy_D5nbsY"
      },
      "outputs": [],
      "source": [
        "from allosaurus.app import read_recognizer\n",
        "\n",
        "# load your model by the <model name>, will use 'latest' if left empty\n",
        "model = read_recognizer()"
      ]
    },
    {
      "cell_type": "code",
      "execution_count": 6,
      "metadata": {
        "id": "TJkVWWX6mY7T"
      },
      "outputs": [],
      "source": [
        "from IPython.display import Audio, display"
      ]
    },
    {
      "cell_type": "code",
      "execution_count": 7,
      "metadata": {
        "id": "DVnNSRr6qReY"
      },
      "outputs": [],
      "source": [
        "# You can tell the model to emit more phones or less phones by changing the --emit or -e argument.\n",
        "# See: https://github.com/xinjli/allosaurus"
      ]
    },
    {
      "cell_type": "code",
      "execution_count": 9,
      "metadata": {
        "colab": {
          "base_uri": "https://localhost:8080/",
          "height": 348
        },
        "id": "ktaAObNvmfdz",
        "outputId": "ed1596ee-b4fa-4e71-8c34-ab830ac05818"
      },
      "outputs": [],
      "source": [
        "import re\n",
        "\n",
        "files_example = sorted(\n",
        "    [f for f in audio_paths if re.search(r\"desde_|sopa_|mosca_|estribillo_\", f)]\n",
        "    # [f for f in audio_paths if re.search(r\"/predatory_|/pen_\", f)]\n",
        ") \n",
        "\n",
        "out = {}\n",
        "for f in files_example:\n",
        "    # print(Path(f).name)\n",
        "    # display(Audio(f, rate=16000))\n",
        "    # print(model.recognize(f, \"eng\", timestamp=True, topk=5, emit=1))\n",
        "    # print(\"-\"*100)\n",
        "    out[Path(f).name] = model.recognize(f, \"ipa\", timestamp=True, topk=5, emit=1)"
      ]
    },
    {
      "cell_type": "code",
      "execution_count": 11,
      "metadata": {},
      "outputs": [
        {
          "name": "stdout",
          "output_type": "stream",
          "text": [
            "0.090 0.045 ð (0.577) pʲ (0.090) b (0.066) d (0.062) b̥ (0.053)\n",
            "0.150 0.045 e (0.505) ɪ (0.396) ɤ̆ (0.019) ɒ (0.013) æ (0.013)\n",
            "0.300 0.045 s (0.886) s̪ (0.029) ɕ (0.023) <blk> (0.017) k (0.010)\n",
            "0.420 0.045 t̪ (0.515) t (0.218) <blk> (0.064) ð (0.047) p (0.021)\n",
            "0.480 0.045 e (0.395) ɒ (0.092) i (0.087) ɪ (0.080) ə (0.065)\n"
          ]
        }
      ],
      "source": [
        "for k, v in out.items():\n",
        "    print(out[k])\n",
        "    break"
      ]
    },
    {
      "cell_type": "code",
      "execution_count": 17,
      "metadata": {},
      "outputs": [],
      "source": [
        "def parse_allosaurus_output(output: str):\n",
        "    parsed = []\n",
        "    for line in output.strip().splitlines():\n",
        "        parts = line.split(maxsplit=2)\n",
        "        time = float(parts[0])\n",
        "        duration = float(parts[1])\n",
        "        # Regex to extract phoneme and probability pairs\n",
        "        phoneme_probs = re.findall(r'(\\S+)\\s*\\(([\\d.]+)\\)', parts[2])\n",
        "        phoneme_probs = [(p, float(prob)) for p, prob in phoneme_probs]\n",
        "        parsed.append({\n",
        "            \"time\": time,\n",
        "            \"duration\": duration,\n",
        "            \"phones\": phoneme_probs\n",
        "        })\n",
        "    return parsed"
      ]
    },
    {
      "cell_type": "code",
      "execution_count": 21,
      "metadata": {},
      "outputs": [],
      "source": [
        "def get_most_probable_phones(parsed_output):\n",
        "    most_probable = []\n",
        "    for entry in parsed_output:\n",
        "        if entry[\"phones\"]:\n",
        "            # # Sort phonemes by probability and take the most probable one\n",
        "            # most_probable_phoneme = max(entry[\"phonemes\"], key=lambda x: x[1])\n",
        "            # They are already sorted by probability, so we can take the first one\n",
        "            most_probable_phoneme = entry[\"phones\"][0][0]\n",
        "            most_probable.append(most_probable_phoneme)\n",
        "    return most_probable"
      ]
    },
    {
      "cell_type": "code",
      "execution_count": null,
      "metadata": {},
      "outputs": [
        {
          "data": {
            "text/plain": [
              "['ʂ', 'o', 'p', 'a']"
            ]
          },
          "execution_count": 22,
          "metadata": {},
          "output_type": "execute_result"
        }
      ],
      "source": [
        "# test:\n",
        "x = parse_allosaurus_output(out[Path(f).name])\n",
        "get_most_probable_phones(x)"
      ]
    },
    {
      "cell_type": "code",
      "execution_count": null,
      "metadata": {},
      "outputs": [],
      "source": [
        "# Apply:\n",
        "parsed = {}\n",
        "most_probable = {}\n",
        "for k, v in out.items():\n",
        "    parsed[k] = parse_allosaurus_output(v)\n",
        "    most_probable[k] = get_most_probable_phones(parsed[k])"
      ]
    },
    {
      "cell_type": "code",
      "execution_count": 27,
      "metadata": {},
      "outputs": [],
      "source": [
        "import pandas as pd\n",
        "\n",
        "# Cols: file_name, phones\n",
        "df_phones = pd.DataFrame(most_probable.items(), columns=[\"file_name\", \"phones\"])"
      ]
    },
    {
      "cell_type": "code",
      "execution_count": 29,
      "metadata": {},
      "outputs": [],
      "source": [
        "# Extract data from file_name e.g. desde_es061900_es.Argentina.wav -> desde (word), es061900 (id), es.Argentina (accent)\n",
        "def parse_file_name(file_name):\n",
        "    parts = file_name.split('_')\n",
        "    word = parts[0]\n",
        "    id_ = parts[1]\n",
        "    accent = '_'.join(parts[2:]).replace('.wav', '')\n",
        "    return word, id_, accent\n",
        "\n",
        "df_phones[['word', 'id', 'accent']] = df_phones['file_name'].apply(parse_file_name).apply(pd.Series)"
      ]
    },
    {
      "cell_type": "code",
      "execution_count": 30,
      "metadata": {},
      "outputs": [
        {
          "data": {
            "text/html": [
              "<div>\n",
              "<style scoped>\n",
              "    .dataframe tbody tr th:only-of-type {\n",
              "        vertical-align: middle;\n",
              "    }\n",
              "\n",
              "    .dataframe tbody tr th {\n",
              "        vertical-align: top;\n",
              "    }\n",
              "\n",
              "    .dataframe thead th {\n",
              "        text-align: right;\n",
              "    }\n",
              "</style>\n",
              "<table border=\"1\" class=\"dataframe\">\n",
              "  <thead>\n",
              "    <tr style=\"text-align: right;\">\n",
              "      <th></th>\n",
              "      <th>file_name</th>\n",
              "      <th>phones</th>\n",
              "      <th>word</th>\n",
              "      <th>id</th>\n",
              "      <th>accent</th>\n",
              "    </tr>\n",
              "  </thead>\n",
              "  <tbody>\n",
              "    <tr>\n",
              "      <th>0</th>\n",
              "      <td>desde_es061900_es.Argentina.wav</td>\n",
              "      <td>[ð, e, s, t̪, e]</td>\n",
              "      <td>desde</td>\n",
              "      <td>es061900</td>\n",
              "      <td>es.Argentina</td>\n",
              "    </tr>\n",
              "    <tr>\n",
              "      <th>1</th>\n",
              "      <td>desde_es061900_es.Castellano.wav</td>\n",
              "      <td>[u, t̪, e, s, t̪, e, ɪ]</td>\n",
              "      <td>desde</td>\n",
              "      <td>es061900</td>\n",
              "      <td>es.Castellano</td>\n",
              "    </tr>\n",
              "    <tr>\n",
              "      <th>2</th>\n",
              "      <td>desde_es061900_es.Mexico.wav</td>\n",
              "      <td>[d, e, z, ð, e]</td>\n",
              "      <td>desde</td>\n",
              "      <td>es061900</td>\n",
              "      <td>es.Mexico</td>\n",
              "    </tr>\n",
              "    <tr>\n",
              "      <th>3</th>\n",
              "      <td>estribillo_es084128_es.Argentina.wav</td>\n",
              "      <td>[e, s, t, ɾ, i, b̞, i, ʐ, o]</td>\n",
              "      <td>estribillo</td>\n",
              "      <td>es084128</td>\n",
              "      <td>es.Argentina</td>\n",
              "    </tr>\n",
              "    <tr>\n",
              "      <th>4</th>\n",
              "      <td>estribillo_es084128_es.Castellano.wav</td>\n",
              "      <td>[e, s, t, ɾ, i, b̞, i, tɕ, i, o]</td>\n",
              "      <td>estribillo</td>\n",
              "      <td>es084128</td>\n",
              "      <td>es.Castellano</td>\n",
              "    </tr>\n",
              "    <tr>\n",
              "      <th>5</th>\n",
              "      <td>estribillo_es084128_es.Mexico.wav</td>\n",
              "      <td>[ɛ, s, t, ɾ, i, b, i, tɕ, o, uə]</td>\n",
              "      <td>estribillo</td>\n",
              "      <td>es084128</td>\n",
              "      <td>es.Mexico</td>\n",
              "    </tr>\n",
              "    <tr>\n",
              "      <th>6</th>\n",
              "      <td>mosca_es132631_es.Argentina.wav</td>\n",
              "      <td>[ɴ, ɔ, ʁ, ә, k͡p̚, a]</td>\n",
              "      <td>mosca</td>\n",
              "      <td>es132631</td>\n",
              "      <td>es.Argentina</td>\n",
              "    </tr>\n",
              "    <tr>\n",
              "      <th>7</th>\n",
              "      <td>mosca_es132631_es.Castellano.wav</td>\n",
              "      <td>[m, o, s, k, a]</td>\n",
              "      <td>mosca</td>\n",
              "      <td>es132631</td>\n",
              "      <td>es.Castellano</td>\n",
              "    </tr>\n",
              "    <tr>\n",
              "      <th>8</th>\n",
              "      <td>mosca_es132631_es.Mexico.wav</td>\n",
              "      <td>[m, o, s, k, ɪ]</td>\n",
              "      <td>mosca</td>\n",
              "      <td>es132631</td>\n",
              "      <td>es.Mexico</td>\n",
              "    </tr>\n",
              "    <tr>\n",
              "      <th>9</th>\n",
              "      <td>sopa_es181195_es.Argentina.wav</td>\n",
              "      <td>[ʂ, uə, p, a]</td>\n",
              "      <td>sopa</td>\n",
              "      <td>es181195</td>\n",
              "      <td>es.Argentina</td>\n",
              "    </tr>\n",
              "    <tr>\n",
              "      <th>10</th>\n",
              "      <td>sopa_es181195_es.Castellano.wav</td>\n",
              "      <td>[s̪, o, uə, ʁ, p, ɒ, ɾ]</td>\n",
              "      <td>sopa</td>\n",
              "      <td>es181195</td>\n",
              "      <td>es.Castellano</td>\n",
              "    </tr>\n",
              "    <tr>\n",
              "      <th>11</th>\n",
              "      <td>sopa_es181195_es.Mexico.wav</td>\n",
              "      <td>[ʂ, o, p, a]</td>\n",
              "      <td>sopa</td>\n",
              "      <td>es181195</td>\n",
              "      <td>es.Mexico</td>\n",
              "    </tr>\n",
              "  </tbody>\n",
              "</table>\n",
              "</div>"
            ],
            "text/plain": [
              "                                file_name                            phones  \\\n",
              "0         desde_es061900_es.Argentina.wav                  [ð, e, s, t̪, e]   \n",
              "1        desde_es061900_es.Castellano.wav           [u, t̪, e, s, t̪, e, ɪ]   \n",
              "2            desde_es061900_es.Mexico.wav                   [d, e, z, ð, e]   \n",
              "3    estribillo_es084128_es.Argentina.wav      [e, s, t, ɾ, i, b̞, i, ʐ, o]   \n",
              "4   estribillo_es084128_es.Castellano.wav  [e, s, t, ɾ, i, b̞, i, tɕ, i, o]   \n",
              "5       estribillo_es084128_es.Mexico.wav  [ɛ, s, t, ɾ, i, b, i, tɕ, o, uə]   \n",
              "6         mosca_es132631_es.Argentina.wav             [ɴ, ɔ, ʁ, ә, k͡p̚, a]   \n",
              "7        mosca_es132631_es.Castellano.wav                   [m, o, s, k, a]   \n",
              "8            mosca_es132631_es.Mexico.wav                   [m, o, s, k, ɪ]   \n",
              "9          sopa_es181195_es.Argentina.wav                     [ʂ, uə, p, a]   \n",
              "10        sopa_es181195_es.Castellano.wav           [s̪, o, uə, ʁ, p, ɒ, ɾ]   \n",
              "11            sopa_es181195_es.Mexico.wav                      [ʂ, o, p, a]   \n",
              "\n",
              "          word        id         accent  \n",
              "0        desde  es061900   es.Argentina  \n",
              "1        desde  es061900  es.Castellano  \n",
              "2        desde  es061900      es.Mexico  \n",
              "3   estribillo  es084128   es.Argentina  \n",
              "4   estribillo  es084128  es.Castellano  \n",
              "5   estribillo  es084128      es.Mexico  \n",
              "6        mosca  es132631   es.Argentina  \n",
              "7        mosca  es132631  es.Castellano  \n",
              "8        mosca  es132631      es.Mexico  \n",
              "9         sopa  es181195   es.Argentina  \n",
              "10        sopa  es181195  es.Castellano  \n",
              "11        sopa  es181195      es.Mexico  "
            ]
          },
          "execution_count": 30,
          "metadata": {},
          "output_type": "execute_result"
        }
      ],
      "source": [
        "df_phones"
      ]
    },
    {
      "cell_type": "code",
      "execution_count": 31,
      "metadata": {},
      "outputs": [],
      "source": [
        "!pip install -qU python-Levenshtein\n"
      ]
    },
    {
      "cell_type": "code",
      "execution_count": 36,
      "metadata": {},
      "outputs": [
        {
          "name": "stdout",
          "output_type": "stream",
          "text": [
            "2\n",
            "6\n"
          ]
        }
      ],
      "source": [
        "# Compute Levenshtein distance between two strings:\n",
        "import Levenshtein\n",
        "\n",
        "print(Levenshtein.distance(df_phones['phones'][0], df_phones['word'][1]))  # Example usage\n",
        "print(Levenshtein.distance(\"\".join(df_phones['phones'][0]), df_phones['word'][1].join('')))  # Example usage"
      ]
    },
    {
      "cell_type": "code",
      "execution_count": 33,
      "metadata": {},
      "outputs": [
        {
          "data": {
            "text/plain": [
              "'desde'"
            ]
          },
          "execution_count": 33,
          "metadata": {},
          "output_type": "execute_result"
        }
      ],
      "source": [
        "df_phones['word'][0]"
      ]
    },
    {
      "cell_type": "code",
      "execution_count": 11,
      "metadata": {
        "colab": {
          "base_uri": "https://localhost:8080/",
          "height": 75
        },
        "id": "iI-xmD3ApGkc",
        "outputId": "5deb019b-5435-4f03-c83d-42a7c8e4c92e"
      },
      "outputs": [
        {
          "data": {
            "text/html": [
              "\n",
              "                <audio  controls=\"controls\" >\n",
              "                    <source src=\"data:audio/x-wav;base64,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\" type=\"audio/x-wav\" />\n",
              "                    Your browser does not support the audio element.\n",
              "                </audio>\n",
              "              "
            ],
            "text/plain": [
              "<IPython.lib.display.Audio object>"
            ]
          },
          "execution_count": 11,
          "metadata": {},
          "output_type": "execute_result"
        }
      ],
      "source": [
        "Audio(f, rate=16000)"
      ]
    }
  ],
  "metadata": {
    "accelerator": "GPU",
    "colab": {
      "gpuType": "T4",
      "provenance": []
    },
    "kernelspec": {
      "display_name": "py313",
      "language": "python",
      "name": "python3"
    },
    "language_info": {
      "codemirror_mode": {
        "name": "ipython",
        "version": 3
      },
      "file_extension": ".py",
      "mimetype": "text/x-python",
      "name": "python",
      "nbconvert_exporter": "python",
      "pygments_lexer": "ipython3",
      "version": "3.13.2"
    }
  },
  "nbformat": 4,
  "nbformat_minor": 0
}
