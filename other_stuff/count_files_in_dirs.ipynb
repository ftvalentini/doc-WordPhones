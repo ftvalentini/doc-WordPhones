{
 "cells": [
  {
   "cell_type": "code",
   "execution_count": 1,
   "id": "44caad26",
   "metadata": {},
   "outputs": [],
   "source": [
    "# Count number of files in each dir in output/wordreference_words/es:\n",
    "from pathlib import Path\n",
    "\n",
    "dir2count = {}\n",
    "for i, path in enumerate(Path(\"output/wordreference_words/es\").rglob(\"*\")):\n",
    "    # print(path)\n",
    "    # if i == 10:\n",
    "    #     break\n",
    "    if path.is_file():\n",
    "        dir_name = path.parent.name\n",
    "        if dir_name not in dir2count:\n",
    "            dir2count[dir_name] = 0\n",
    "        dir2count[dir_name] += 1"
   ]
  },
  {
   "cell_type": "code",
   "execution_count": 2,
   "id": "57b5cc2b",
   "metadata": {},
   "outputs": [
    {
     "data": {
      "text/plain": [
       "1    210481\n",
       "2        20\n",
       "3     18775\n",
       "Name: count, dtype: int64"
      ]
     },
     "execution_count": 2,
     "metadata": {},
     "output_type": "execute_result"
    }
   ],
   "source": [
    "import pandas as pd\n",
    "\n",
    "x = pd.Series(dir2count).sort_values(ascending=False)\n",
    "x.value_counts().sort_index()"
   ]
  },
  {
   "cell_type": "code",
   "execution_count": 2,
   "id": "9c83477a",
   "metadata": {},
   "outputs": [],
   "source": [
    "from pathlib import Path\n",
    "\n",
    "dir2count = {}\n",
    "for i, path in enumerate(Path(\"output/wordreference_words/en\").rglob(\"*\")):\n",
    "    if path.is_file():\n",
    "        dir_name = path.parent.name\n",
    "        if dir_name not in dir2count:\n",
    "            dir2count[dir_name] = 0\n",
    "        dir2count[dir_name] += 1"
   ]
  },
  {
   "cell_type": "code",
   "execution_count": 3,
   "id": "3f6788c5",
   "metadata": {},
   "outputs": [
    {
     "data": {
      "text/plain": [
       "1    341640\n",
       "6        24\n",
       "7      1618\n",
       "8      9123\n",
       "9      7262\n",
       "Name: count, dtype: int64"
      ]
     },
     "execution_count": 3,
     "metadata": {},
     "output_type": "execute_result"
    }
   ],
   "source": [
    "import pandas as pd\n",
    "\n",
    "x = pd.Series(dir2count).sort_values(ascending=False)\n",
    "x.value_counts().sort_index()"
   ]
  },
  {
   "cell_type": "code",
   "execution_count": 5,
   "id": "1fd44afc",
   "metadata": {},
   "outputs": [
    {
     "data": {
      "text/plain": [
       "dinner      6\n",
       "bouquet     6\n",
       "bow         6\n",
       "bowling     6\n",
       "bowl        6\n",
       "midst       6\n",
       "modest      6\n",
       "box         6\n",
       "bout        6\n",
       "axis        6\n",
       "mighty      6\n",
       "mild        6\n",
       "acumen      6\n",
       "bowed       6\n",
       "acute       6\n",
       "might       6\n",
       "acutely     6\n",
       "midget      6\n",
       "boxer       6\n",
       "mildly      6\n",
       "midnight    6\n",
       "famine      6\n",
       "bowel       6\n",
       "midwife     6\n",
       "dtype: int64"
      ]
     },
     "execution_count": 5,
     "metadata": {},
     "output_type": "execute_result"
    }
   ],
   "source": [
    "# Check words with 6:\n",
    "x[x == 6]"
   ]
  },
  {
   "cell_type": "markdown",
   "id": "518170b2",
   "metadata": {},
   "source": [
    "----------------------------"
   ]
  },
  {
   "cell_type": "code",
   "execution_count": 13,
   "id": "78db24f8",
   "metadata": {},
   "outputs": [
    {
     "name": "stderr",
     "output_type": "stream",
     "text": [
      "/tmp/ipykernel_1620879/2969843951.py:3: DtypeWarning: Columns (2) have mixed types. Specify dtype option on import or set low_memory=False.\n",
      "  df_words = pd.read_csv(\n"
     ]
    },
    {
     "data": {
      "text/html": [
       "<div>\n",
       "<style scoped>\n",
       "    .dataframe tbody tr th:only-of-type {\n",
       "        vertical-align: middle;\n",
       "    }\n",
       "\n",
       "    .dataframe tbody tr th {\n",
       "        vertical-align: top;\n",
       "    }\n",
       "\n",
       "    .dataframe thead th {\n",
       "        text-align: right;\n",
       "    }\n",
       "</style>\n",
       "<table border=\"1\" class=\"dataframe\">\n",
       "  <thead>\n",
       "    <tr style=\"text-align: right;\">\n",
       "      <th></th>\n",
       "      <th>rank</th>\n",
       "      <th>words</th>\n",
       "      <th>freq_abs</th>\n",
       "      <th>freq_rel</th>\n",
       "    </tr>\n",
       "  </thead>\n",
       "  <tbody>\n",
       "    <tr>\n",
       "      <th>0</th>\n",
       "      <td>1.0</td>\n",
       "      <td>de</td>\n",
       "      <td>9,999,518</td>\n",
       "      <td>65545.55</td>\n",
       "    </tr>\n",
       "    <tr>\n",
       "      <th>1</th>\n",
       "      <td>2.0</td>\n",
       "      <td>la</td>\n",
       "      <td>6,277,560</td>\n",
       "      <td>41148.59</td>\n",
       "    </tr>\n",
       "  </tbody>\n",
       "</table>\n",
       "</div>"
      ],
      "text/plain": [
       "   rank words    freq_abs  freq_rel\n",
       "0   1.0    de  9,999,518   65545.55\n",
       "1   2.0    la  6,277,560   41148.59"
      ]
     },
     "execution_count": 13,
     "metadata": {},
     "output_type": "execute_result"
    }
   ],
   "source": [
    "import pandas as pd\n",
    "\n",
    "df_words = pd.read_csv(\n",
    "    \"data/CREA_total.TXT\", sep=\"\\t\", encoding=\"Latin-1\", names=[\"rank\", \"words\", \"freq_abs\", \"freq_rel\"], header=0,\n",
    "    )\n",
    "\n",
    "df_words.head(2)"
   ]
  },
  {
   "cell_type": "code",
   "execution_count": 21,
   "id": "5ac8fc41",
   "metadata": {},
   "outputs": [
    {
     "data": {
      "text/html": [
       "<div>\n",
       "<style scoped>\n",
       "    .dataframe tbody tr th:only-of-type {\n",
       "        vertical-align: middle;\n",
       "    }\n",
       "\n",
       "    .dataframe tbody tr th {\n",
       "        vertical-align: top;\n",
       "    }\n",
       "\n",
       "    .dataframe thead th {\n",
       "        text-align: right;\n",
       "    }\n",
       "</style>\n",
       "<table border=\"1\" class=\"dataframe\">\n",
       "  <thead>\n",
       "    <tr style=\"text-align: right;\">\n",
       "      <th></th>\n",
       "      <th>rank</th>\n",
       "      <th>words</th>\n",
       "      <th>freq_abs</th>\n",
       "      <th>freq_rel</th>\n",
       "    </tr>\n",
       "  </thead>\n",
       "  <tbody>\n",
       "    <tr>\n",
       "      <th>38515</th>\n",
       "      <td>38516.0</td>\n",
       "      <td>rupert</td>\n",
       "      <td>173</td>\n",
       "      <td>1.13</td>\n",
       "    </tr>\n",
       "  </tbody>\n",
       "</table>\n",
       "</div>"
      ],
      "text/plain": [
       "          rank   words   freq_abs  freq_rel\n",
       "38515  38516.0  rupert        173      1.13"
      ]
     },
     "execution_count": 21,
     "metadata": {},
     "output_type": "execute_result"
    }
   ],
   "source": [
    "df_words.query(\"words == 'rupert'\")"
   ]
  },
  {
   "cell_type": "code",
   "execution_count": 12,
   "id": "e2272551",
   "metadata": {},
   "outputs": [
    {
     "data": {
      "text/plain": [
       "0                                     de\n",
       "1                                     la\n",
       "2                                    que\n",
       "3                                     el\n",
       "4                                     en\n",
       "                       ...              \n",
       "737794                        zzzzzzzzzz\n",
       "737795                  zzzzzzzzzzzantes\n",
       "737796                     zzzzzzzzzzzzz\n",
       "737797                 zzzzzzzzzzzzzzzzz\n",
       "737798    zzzzzzzzzzzzzzzzzzzzzzzzzzzzzz\n",
       "Name: words, Length: 737799, dtype: object"
      ]
     },
     "execution_count": 12,
     "metadata": {},
     "output_type": "execute_result"
    }
   ],
   "source": [
    "df_words[\"words\"].str.strip()"
   ]
  },
  {
   "cell_type": "code",
   "execution_count": 6,
   "id": "fdc53459",
   "metadata": {},
   "outputs": [
    {
     "name": "stdout",
     "output_type": "stream",
     "text": [
      "{'encoding': 'ISO-8859-1', 'confidence': 0.7297232107037379, 'language': ''}\n"
     ]
    }
   ],
   "source": [
    "import chardet\n",
    "\n",
    "with open(\"data/CREA_total.TXT\", 'rb') as f:\n",
    "    result = chardet.detect(f.read())\n",
    "\n",
    "print(result)"
   ]
  },
  {
   "cell_type": "code",
   "execution_count": null,
   "id": "84b138af",
   "metadata": {},
   "outputs": [],
   "source": []
  },
  {
   "cell_type": "code",
   "execution_count": 5,
   "id": "bb365c6e",
   "metadata": {},
   "outputs": [],
   "source": [
    "import requests\n",
    "\n",
    "session = requests.Session()\n",
    "timeout = 10  # seconds\n",
    "\n",
    "url = \"https://raw.githubusercontent.com/dwyl/english-words/refs/heads/master/words_alpha.txt\"\n",
    "resp = session.get(url, timeout=timeout)\n",
    "resp.raise_for_status()\n",
    "text = resp.text.replace(\"ń\", \"ñ\").replace(\"Ń\", \"Ñ\")  # fix for ñ error...\n",
    "words = [w.strip() for w in text.splitlines() if w.strip()]\n",
    "if not words:\n",
    "    raise RuntimeError(\"Word list is empty.\")\n",
    "words = sorted(set(words))  # Remove duplicates and sort"
   ]
  },
  {
   "cell_type": "code",
   "execution_count": 6,
   "id": "7eab59a5",
   "metadata": {},
   "outputs": [
    {
     "data": {
      "text/plain": [
       "True"
      ]
     },
     "execution_count": 6,
     "metadata": {},
     "output_type": "execute_result"
    }
   ],
   "source": [
    "\"ricochet\" in words"
   ]
  }
 ],
 "metadata": {
  "kernelspec": {
   "display_name": "py313",
   "language": "python",
   "name": "python3"
  },
  "language_info": {
   "codemirror_mode": {
    "name": "ipython",
    "version": 3
   },
   "file_extension": ".py",
   "mimetype": "text/x-python",
   "name": "python",
   "nbconvert_exporter": "python",
   "pygments_lexer": "ipython3",
   "version": "3.13.2"
  }
 },
 "nbformat": 4,
 "nbformat_minor": 5
}
